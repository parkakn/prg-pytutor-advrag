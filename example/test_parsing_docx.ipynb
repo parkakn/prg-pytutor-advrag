{
 "cells": [
  {
   "cell_type": "code",
   "execution_count": 1,
   "metadata": {},
   "outputs": [],
   "source": [
    "from config import *"
   ]
  },
  {
   "cell_type": "code",
   "execution_count": 2,
   "metadata": {},
   "outputs": [],
   "source": [
    "from rag_tools.parse_execute import *"
   ]
  },
  {
   "cell_type": "markdown",
   "metadata": {},
   "source": [
    "##### **Parsing docx document to markdown file using LLM**"
   ]
  },
  {
   "cell_type": "code",
   "execution_count": 3,
   "metadata": {},
   "outputs": [],
   "source": [
    "folder_path = \"../test_data/Assignments/*.docx\""
   ]
  },
  {
   "cell_type": "code",
   "execution_count": 6,
   "metadata": {},
   "outputs": [
    {
     "name": "stdout",
     "output_type": "stream",
     "text": [
      "convert /home/ewp/MIT Media Lab_Linux/prg-pytutor-rag-exploration/test_data/Assignments/CIS 3260 - IA2.docx -> /home/ewp/MIT Media Lab_Linux/prg-pytutor-rag-exploration/test_data/Assignments/CIS 3260 - IA2.pdf using filter : writer_pdf_Export\n",
      "Overwriting: /home/ewp/MIT Media Lab_Linux/prg-pytutor-rag-exploration/test_data/Assignments/CIS 3260 - IA2.pdf\n",
      "convert /home/ewp/MIT Media Lab_Linux/prg-pytutor-rag-exploration/test_data/Assignments/CIS 3260 - IA1.docx -> /home/ewp/MIT Media Lab_Linux/prg-pytutor-rag-exploration/test_data/Assignments/CIS 3260 - IA1.pdf using filter : writer_pdf_Export\n",
      "Overwriting: /home/ewp/MIT Media Lab_Linux/prg-pytutor-rag-exploration/test_data/Assignments/CIS 3260 - IA1.pdf\n",
      "Started parsing the file under job_id a9f4f802-c084-49c5-b120-ea04e32f085d\n",
      "Started parsing the file under job_id 7ba250fd-0fb1-4b53-869c-5946b255d5aa\n"
     ]
    }
   ],
   "source": [
    "docx_to_markdown(folder_path, \"assignment\")\n"
   ]
  },
  {
   "cell_type": "code",
   "execution_count": null,
   "metadata": {},
   "outputs": [],
   "source": []
  }
 ],
 "metadata": {
  "kernelspec": {
   "display_name": "Python 3",
   "language": "python",
   "name": "python3"
  },
  "language_info": {
   "codemirror_mode": {
    "name": "ipython",
    "version": 3
   },
   "file_extension": ".py",
   "mimetype": "text/x-python",
   "name": "python",
   "nbconvert_exporter": "python",
   "pygments_lexer": "ipython3",
   "version": "3.10.12"
  }
 },
 "nbformat": 4,
 "nbformat_minor": 2
}
